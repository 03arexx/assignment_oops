{
 "cells": [
  {
   "cell_type": "markdown",
   "id": "8f545db0-1815-4875-b850-501e5550521d",
   "metadata": {},
   "source": [
    "Q1. Explain Class and Object with respect to Object-Oriented Programming. Give a suitable example."
   ]
  },
  {
   "cell_type": "markdown",
   "id": "b4ec1800-a3cc-42b3-adc7-218b2828068c",
   "metadata": {},
   "source": [
    "class : A class is a collection of objects. A class contains the blueprints or the prototype from which the objects are being created. It is a logical entity that contains some attributes and methods.\n",
    "\n",
    "object:The object is an entity that has a state and behavior associated with it. It may be any real-world object like a mouse, keyboard, chair, table, pen, etc.\n"
   ]
  },
  {
   "cell_type": "code",
   "execution_count": 4,
   "id": "f1e76a54-deed-438d-8ff6-a02ff45a5f04",
   "metadata": {},
   "outputs": [],
   "source": [
    "class exp_class:\n",
    "    def reshad(self,method1):\n",
    "        print(method1)"
   ]
  },
  {
   "cell_type": "code",
   "execution_count": 5,
   "id": "afb87d6f-809f-4eb1-9f86-20bcd0e2e5bf",
   "metadata": {},
   "outputs": [],
   "source": [
    "obj_exp_class=exp_class()"
   ]
  },
  {
   "cell_type": "code",
   "execution_count": 8,
   "id": "07b9e5cc-7c1d-41b8-9440-4f70bbfb960a",
   "metadata": {},
   "outputs": [
    {
     "name": "stdout",
     "output_type": "stream",
     "text": [
      "anything\n"
     ]
    }
   ],
   "source": [
    "obj_exp_class.reshad('anything')"
   ]
  },
  {
   "cell_type": "markdown",
   "id": "b457bf50-7bcc-486f-8bc8-86bdd14051c0",
   "metadata": {},
   "source": [
    "Q2. Name the four pillars of OOPs."
   ]
  },
  {
   "cell_type": "markdown",
   "id": "31bdde38-a33f-40a0-b11a-8d99ea60e5c2",
   "metadata": {},
   "source": [
    "The four pillars of Object-Oriented Programming (OOP) are\n",
    "Abstraction\n",
    "Encapsulation\n",
    "Inheritance\n",
    "Polymorphism"
   ]
  },
  {
   "cell_type": "markdown",
   "id": "09c4fcf1-eb5e-43ba-9b7e-974539514625",
   "metadata": {},
   "source": [
    "Q3. Explain why the __init__() function is used. Give a suitable example."
   ]
  },
  {
   "cell_type": "markdown",
   "id": "20b7f33c-2f5d-4c8a-83ac-c3d42b5b99be",
   "metadata": {},
   "source": [
    "__init__ method in Python is used to initialize objects of a class. It is also called a constructor.\n",
    "\n"
   ]
  },
  {
   "cell_type": "code",
   "execution_count": 10,
   "id": "f297e003-bcac-474f-a65c-b1a779204367",
   "metadata": {},
   "outputs": [],
   "source": [
    "class example:\n",
    "    def __init__(self,name,address):\n",
    "        self.name=name\n",
    "        self.address=address\n",
    "        \n",
    "    def details(self,list_items):\n",
    "        print(self.name,self.address,list_items)\n",
    "        "
   ]
  },
  {
   "cell_type": "code",
   "execution_count": 12,
   "id": "f48682b2-8b57-4bc3-b850-b0addc083d98",
   "metadata": {},
   "outputs": [],
   "source": [
    "obj=example('reshad','rxl')"
   ]
  },
  {
   "cell_type": "code",
   "execution_count": 14,
   "id": "753181c1-cf49-479f-9cdf-551bfd5cd020",
   "metadata": {},
   "outputs": [
    {
     "data": {
      "text/plain": [
       "'reshad'"
      ]
     },
     "execution_count": 14,
     "metadata": {},
     "output_type": "execute_result"
    }
   ],
   "source": [
    "obj.name"
   ]
  },
  {
   "cell_type": "code",
   "execution_count": 15,
   "id": "6067c7d8-1193-46bb-ab8b-ce902722a1c1",
   "metadata": {},
   "outputs": [
    {
     "data": {
      "text/plain": [
       "'rxl'"
      ]
     },
     "execution_count": 15,
     "metadata": {},
     "output_type": "execute_result"
    }
   ],
   "source": [
    "obj.address"
   ]
  },
  {
   "cell_type": "code",
   "execution_count": 18,
   "id": "afcea96f-a0f6-4ef3-8bd2-8f307bf77249",
   "metadata": {},
   "outputs": [
    {
     "name": "stdout",
     "output_type": "stream",
     "text": [
      "reshad rxl ['ram', 'shyam']\n"
     ]
    }
   ],
   "source": [
    "obj.details(['ram','shyam'])"
   ]
  },
  {
   "cell_type": "markdown",
   "id": "9b4ef437-2812-4c35-910a-439151947f5d",
   "metadata": {},
   "source": [
    "Q4. Why self is used in OOPs?"
   ]
  },
  {
   "cell_type": "markdown",
   "id": "16857093-c577-43c1-9678-599466609f10",
   "metadata": {},
   "source": [
    "Self is a reference to the instance of the class in Python. It allows you to access and modify the attributes and methods of a class within its own scope."
   ]
  },
  {
   "cell_type": "markdown",
   "id": "24d631b3-8553-4ad1-9b59-1aa6b534d3f5",
   "metadata": {},
   "source": [
    "Q5. What is inheritance? Give an example for each type of inheritance."
   ]
  },
  {
   "cell_type": "markdown",
   "id": "1f0c9392-8360-4187-832a-ca8c7f5ece06",
   "metadata": {},
   "source": [
    "Inheritance is one of the core features of object-oriented programming. It’s a programming procedure that allows you to reuse code by referencing the behaviors and data of an object. In other words, a class that inherits from another class shares all the attributes and methods of the referenced class."
   ]
  },
  {
   "cell_type": "markdown",
   "id": "f6a05d18-b837-40ce-be50-09d7d584fe68",
   "metadata": {},
   "source": [
    "There are several type of inheritance like single , multiple,multi-level,hierarchical and hybrid."
   ]
  },
  {
   "cell_type": "code",
   "execution_count": 25,
   "id": "a3a62b13-122b-4168-87c7-628bc44c853c",
   "metadata": {},
   "outputs": [],
   "source": [
    "#singlw inheritance\n",
    "class dad:\n",
    "    def test(self):\n",
    "        return 'i am dad'"
   ]
  },
  {
   "cell_type": "code",
   "execution_count": 26,
   "id": "32238cfc-603c-4e32-8a33-cb66ee039d8f",
   "metadata": {},
   "outputs": [],
   "source": [
    "class son(dad):\n",
    "    pass"
   ]
  },
  {
   "cell_type": "code",
   "execution_count": 27,
   "id": "8c932547-c17b-4fc1-bb22-373690403d95",
   "metadata": {},
   "outputs": [],
   "source": [
    "obj_son=son()"
   ]
  },
  {
   "cell_type": "code",
   "execution_count": 28,
   "id": "28175112-e8b3-4ca7-be3a-2696fd75e7d0",
   "metadata": {},
   "outputs": [
    {
     "data": {
      "text/plain": [
       "'i am dad'"
      ]
     },
     "execution_count": 28,
     "metadata": {},
     "output_type": "execute_result"
    }
   ],
   "source": [
    "obj_son.test()"
   ]
  },
  {
   "cell_type": "code",
   "execution_count": null,
   "id": "74c7ce63-d96a-494d-a254-ee03a4feeded",
   "metadata": {},
   "outputs": [],
   "source": []
  },
  {
   "cell_type": "code",
   "execution_count": 30,
   "id": "4a919296-d2e7-4492-8e61-d139d6d54195",
   "metadata": {},
   "outputs": [],
   "source": [
    "#multiple inheritance\n",
    "class daddy:\n",
    "    def test1(self):\n",
    "        return 'i am your dad'\n",
    "\n"
   ]
  },
  {
   "cell_type": "code",
   "execution_count": 31,
   "id": "3222478d-8112-484f-a697-466eb7838bc8",
   "metadata": {},
   "outputs": [],
   "source": [
    "class mommy:\n",
    "    def test2(self):\n",
    "        return 'i am your mommy'"
   ]
  },
  {
   "cell_type": "code",
   "execution_count": 32,
   "id": "1fea43f6-318d-4c73-ba4a-779d633879f4",
   "metadata": {},
   "outputs": [],
   "source": [
    "class child(daddy,mommy):\n",
    "    pass"
   ]
  },
  {
   "cell_type": "code",
   "execution_count": 33,
   "id": "4a424274-3047-4827-9e81-a4ff74e56b16",
   "metadata": {},
   "outputs": [],
   "source": [
    "obj=child()"
   ]
  },
  {
   "cell_type": "code",
   "execution_count": 34,
   "id": "ae458abc-3db5-4e4c-9092-54643273ccc5",
   "metadata": {},
   "outputs": [
    {
     "data": {
      "text/plain": [
       "'i am your dad'"
      ]
     },
     "execution_count": 34,
     "metadata": {},
     "output_type": "execute_result"
    }
   ],
   "source": [
    "obj.test1()"
   ]
  },
  {
   "cell_type": "code",
   "execution_count": 35,
   "id": "98a7d2ee-67f6-4e61-be07-fa023fc28c53",
   "metadata": {},
   "outputs": [
    {
     "data": {
      "text/plain": [
       "'i am your mommy'"
      ]
     },
     "execution_count": 35,
     "metadata": {},
     "output_type": "execute_result"
    }
   ],
   "source": [
    "obj.test2()"
   ]
  },
  {
   "cell_type": "code",
   "execution_count": null,
   "id": "57e7120f-5758-406c-881e-d8821e13697e",
   "metadata": {},
   "outputs": [],
   "source": []
  },
  {
   "cell_type": "code",
   "execution_count": 36,
   "id": "65643b83-bcad-4d0a-8869-214574ee68ee",
   "metadata": {},
   "outputs": [],
   "source": [
    "#multi-level inheritance\n",
    "class dad:\n",
    "    def test11(self):\n",
    "        return 2+3"
   ]
  },
  {
   "cell_type": "code",
   "execution_count": 37,
   "id": "c1985204-0db1-486d-bc60-141937202157",
   "metadata": {},
   "outputs": [],
   "source": [
    "class mom(dad):\n",
    "    def test2(self):\n",
    "        return 7+9"
   ]
  },
  {
   "cell_type": "code",
   "execution_count": 38,
   "id": "f466b43d-cd17-4a3c-807b-93bbadd5b58e",
   "metadata": {},
   "outputs": [],
   "source": [
    "class child(mom):\n",
    "    pass"
   ]
  },
  {
   "cell_type": "code",
   "execution_count": null,
   "id": "3b5b0bb2-461e-4012-8828-fd94a5907d35",
   "metadata": {},
   "outputs": [],
   "source": [
    "object_"
   ]
  }
 ],
 "metadata": {
  "kernelspec": {
   "display_name": "Python 3 (ipykernel)",
   "language": "python",
   "name": "python3"
  },
  "language_info": {
   "codemirror_mode": {
    "name": "ipython",
    "version": 3
   },
   "file_extension": ".py",
   "mimetype": "text/x-python",
   "name": "python",
   "nbconvert_exporter": "python",
   "pygments_lexer": "ipython3",
   "version": "3.10.8"
  }
 },
 "nbformat": 4,
 "nbformat_minor": 5
}
